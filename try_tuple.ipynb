{
 "cells": [
  {
   "cell_type": "code",
   "execution_count": 3,
   "metadata": {},
   "outputs": [
    {
     "data": {
      "text/plain": [
       "'pom'"
      ]
     },
     "execution_count": 3,
     "metadata": {},
     "output_type": "execute_result"
    }
   ],
   "source": [
    "a = (1, 'pom')\n",
    "a[0]\n",
    "a[1]"
   ]
  },
  {
   "cell_type": "code",
   "execution_count": 5,
   "metadata": {},
   "outputs": [
    {
     "data": {
      "text/plain": [
       "False"
      ]
     },
     "execution_count": 5,
     "metadata": {},
     "output_type": "execute_result"
    }
   ],
   "source": [
    "ｂ= ((1, 2, 3), ('a', 'b', 'c'), (True, True, False))\n",
    "b[1]\n",
    "b[2][2]"
   ]
  },
  {
   "cell_type": "code",
   "execution_count": 7,
   "metadata": {},
   "outputs": [
    {
     "name": "stdout",
     "output_type": "stream",
     "text": [
      "(1, 2, 3)\n",
      "('a', 'b', 'c')\n",
      "(True, True, False)\n",
      "x:1, y:2, z:3\n",
      "x:a, y:b, z:c\n",
      "x:True, y:True, z:False\n"
     ]
    }
   ],
   "source": [
    "for data in b:\n",
    "    print(data)\n",
    "for x, y, z in b: \n",
    "    print(f'x:{x}, y:{y}, z:{z}')\n"
   ]
  },
  {
   "cell_type": "code",
   "execution_count": 8,
   "metadata": {},
   "outputs": [
    {
     "data": {
      "text/plain": [
       "'pomadded'"
      ]
     },
     "execution_count": 8,
     "metadata": {},
     "output_type": "execute_result"
    }
   ],
   "source": [
    "def test_tuple(param):\n",
    "    return param[0] + 1,param[1] +'added'\n",
    "c,d = test_tuple((3,\"pom\"))\n",
    "c\n",
    "d"
   ]
  },
  {
   "cell_type": "code",
   "execution_count": 9,
   "metadata": {},
   "outputs": [
    {
     "name": "stdout",
     "output_type": "stream",
     "text": [
      "合計値: 15\n",
      "平均値: 3.0\n"
     ]
    }
   ],
   "source": [
    "import numpy as np\n",
    "\n",
    "def calculate_sum_and_mean(tuple_of_numbers):\n",
    "    \n",
    "    numbers_array = np.array(tuple_of_numbers)\n",
    "\n",
    "    total_sum = np.sum(numbers_array)\n",
    "    \n",
    "    mean_value = np.mean(numbers_array)\n",
    "    \n",
    "    return total_sum, mean_value\n",
    "\n",
    "test_tuple = (1, 2, 3, 4, 5)\n",
    "\n",
    "sum_result, mean_result = calculate_sum_and_mean(test_tuple)\n",
    "\n",
    "print(\"合計値:\", sum_result)\n",
    "print(\"平均値:\", mean_result)\n"
   ]
  }
 ],
 "metadata": {
  "kernelspec": {
   "display_name": "venv",
   "language": "python",
   "name": "python3"
  },
  "language_info": {
   "codemirror_mode": {
    "name": "ipython",
    "version": 3
   },
   "file_extension": ".py",
   "mimetype": "text/x-python",
   "name": "python",
   "nbconvert_exporter": "python",
   "pygments_lexer": "ipython3",
   "version": "3.10.6"
  }
 },
 "nbformat": 4,
 "nbformat_minor": 2
}
