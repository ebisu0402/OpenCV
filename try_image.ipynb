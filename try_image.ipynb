{
 "cells": [
  {
   "cell_type": "code",
   "execution_count": 1,
   "metadata": {},
   "outputs": [],
   "source": [
    "import numpy as np\n",
    "import cv2\n"
   ]
  },
  {
   "cell_type": "code",
   "execution_count": 3,
   "metadata": {},
   "outputs": [
    {
     "data": {
      "text/plain": [
       "array([[[ 53,  70, 109],\n",
       "        [ 53,  70, 109],\n",
       "        [ 52,  69, 108],\n",
       "        ...,\n",
       "        [ 44,  42,  54],\n",
       "        [ 50,  48,  60],\n",
       "        [ 57,  55,  67]],\n",
       "\n",
       "       [[ 56,  73, 112],\n",
       "        [ 55,  72, 111],\n",
       "        [ 51,  68, 107],\n",
       "        ...,\n",
       "        [ 42,  40,  52],\n",
       "        [ 45,  43,  55],\n",
       "        [ 51,  49,  61]],\n",
       "\n",
       "       [[ 55,  72, 111],\n",
       "        [ 54,  71, 110],\n",
       "        [ 51,  68, 107],\n",
       "        ...,\n",
       "        [ 41,  39,  51],\n",
       "        [ 44,  42,  54],\n",
       "        [ 50,  48,  60]],\n",
       "\n",
       "       ...,\n",
       "\n",
       "       [[ 54,  75, 130],\n",
       "        [ 50,  73, 129],\n",
       "        [ 54,  77, 133],\n",
       "        ...,\n",
       "        [ 63,  76, 122],\n",
       "        [ 62,  75, 119],\n",
       "        [ 68,  81, 125]],\n",
       "\n",
       "       [[ 50,  74, 128],\n",
       "        [ 48,  71, 127],\n",
       "        [ 53,  76, 132],\n",
       "        ...,\n",
       "        [ 66,  79, 125],\n",
       "        [ 62,  75, 119],\n",
       "        [ 66,  79, 123]],\n",
       "\n",
       "       [[ 51,  72, 133],\n",
       "        [ 50,  72, 130],\n",
       "        [ 51,  70, 127],\n",
       "        ...,\n",
       "        [ 72,  86, 139],\n",
       "        [ 64,  80, 133],\n",
       "        [ 69,  84, 140]]], dtype=uint8)"
      ]
     },
     "execution_count": 3,
     "metadata": {},
     "output_type": "execute_result"
    }
   ],
   "source": [
    "img = cv2.imread('sample.jpg')\n",
    "img"
   ]
  }
 ],
 "metadata": {
  "kernelspec": {
   "display_name": "venv",
   "language": "python",
   "name": "python3"
  },
  "language_info": {
   "codemirror_mode": {
    "name": "ipython",
    "version": 3
   },
   "file_extension": ".py",
   "mimetype": "text/x-python",
   "name": "python",
   "nbconvert_exporter": "python",
   "pygments_lexer": "ipython3",
   "version": "3.10.6"
  }
 },
 "nbformat": 4,
 "nbformat_minor": 2
}
